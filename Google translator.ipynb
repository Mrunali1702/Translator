{
 "cells": [
  {
   "cell_type": "code",
   "execution_count": 3,
   "metadata": {},
   "outputs": [
    {
     "data": {
      "text/plain": [
       "<bound method Misc.mainloop of <tkinter.Tk object .>>"
      ]
     },
     "execution_count": 3,
     "metadata": {},
     "output_type": "execute_result"
    }
   ],
   "source": [
    "from tkinter import *\n",
    "from tkinter import ttk\n",
    "from tkinter.tix import ButtonBox\n",
    "from googletrans import Translator,LANGUAGES\n",
    "\n",
    "def change(text=\"type\",src=\"English\",dest=\"Hindi\"):\n",
    "    text1=text\n",
    "    src1=src\n",
    "    deest1=dest\n",
    "    trans= Translator()\n",
    "    trans1=trans.translate(text,src=src1,dest=src1)\n",
    "    return trans1.text\n",
    "\n",
    "\n",
    "def data():\n",
    "    s= comb1_sor.get()\n",
    "    d= comb1_dest.get()\n",
    "    masg=sourse_text.get(1.0,END)\n",
    "    Textget=change(text=masg,src=s,dest=d)\n",
    "    dest_text.delete(1.0,END)\n",
    "    dest_text.insert(END,Textget)\n",
    "\n",
    "\n",
    "root =Tk()\n",
    "root.title(\"TRANSLATOR\")\n",
    "root.geometry(\"500x1000\")\n",
    "root.config(bg='Red')\n",
    "\n",
    "lab_txt= Label(root,text=\"Tanslator\",font=(\"Time New Roman\",40),bg=\"Red\")\n",
    "lab_txt.place(x=100,y=40,height=50,width=300)\n",
    "\n",
    "frame=Frame(root).pack(side=BOTTOM)\n",
    "\n",
    "lab_txt= Label(root,text=\"Source Text\",font=(\"Time New Roman\",40),fg=\"Black\")\n",
    "lab_txt.place(x=100,y=100,height=20,width=300)\n",
    "\n",
    "\n",
    "sourse_text= Text(frame,font=(\"Time New Roman \",20),wrap=WORD)\n",
    "sourse_text.place(x=10,y=130,height=150,width=480)\n",
    "\n",
    "list_text=list(LANGUAGES.values())\n",
    "\n",
    "comb1_sor=ttk.Combobox(frame,value=list_text)\n",
    "comb1_sor.place(x=10,y=300,height=40,width=150)\n",
    "comb1_sor.set(\"English\")\n",
    "\n",
    "button_change=Button(frame,text=\"translate\",relief=RAISED,command=data)\n",
    "button_change.place(x=170,y=300,height=40,width=150)\n",
    "\n",
    "comb1_dest=ttk.Combobox(frame,value=list_text)\n",
    "comb1_dest.place(x=330,y=300,height=40,width=150)\n",
    "comb1_dest.set(\"English\")\n",
    "\n",
    "\n",
    "lab_txt= Label(root,text=\"Destination Text\",font=(\"Time New Roman\",40),fg=\"Black\")\n",
    "lab_txt.place(x=100,y=360,height=20,width=300)\n",
    "\n",
    "dest_text= Text(frame,font=(\"Time New Roman \",20),wrap=WORD)\n",
    "dest_text.place(x=10,y=400,height=150,width=480) \n",
    "\n",
    "\n",
    "\n",
    "root.mainloop\n",
    "\n",
    "\n",
    "\n",
    "\n",
    "\n",
    "\n",
    "\n",
    "\n",
    "\n",
    "\n",
    "\n",
    "\n",
    "\n",
    "\n"
   ]
  }
 ],
 "metadata": {
  "kernelspec": {
   "display_name": "Python 3",
   "language": "python",
   "name": "python3"
  },
  "language_info": {
   "codemirror_mode": {
    "name": "ipython",
    "version": 3
   },
   "file_extension": ".py",
   "mimetype": "text/x-python",
   "name": "python",
   "nbconvert_exporter": "python",
   "pygments_lexer": "ipython3",
   "version": "3.10.11"
  },
  "orig_nbformat": 4
 },
 "nbformat": 4,
 "nbformat_minor": 2
}
